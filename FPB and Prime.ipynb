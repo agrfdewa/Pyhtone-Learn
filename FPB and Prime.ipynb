{
 "cells": [
  {
   "cell_type": "code",
   "execution_count": 1,
   "metadata": {},
   "outputs": [
    {
     "name": "stdout",
     "output_type": "stream",
     "text": [
      "FPB dari 2 angka tersebut:  20\n",
      "20 Bukan Bilangan Prima\n",
      "Karena 2 Kali 10 adalah 20\n"
     ]
    }
   ],
   "source": [
    "import math\n",
    "\n",
    "# # Penghitungan FPB dengan Library\n",
    "\n",
    "# int1 = int(input(\"Masukan angka pertama: \"))\n",
    "# int2 = int(input(\"Masukan angka kedua: \"))\n",
    "# FPB =math.gcd(int1,int2)\n",
    "\n",
    "# print(\"Hasil FPB dari angka pertama dan kedua: \",FPB)\n",
    "\n",
    "# FPB Manual\n",
    "\n",
    "def FPB( a, b):  \n",
    "    if a > b:  # define the if condition  \n",
    "        temp = b  \n",
    "    else:  \n",
    "        temp = a  \n",
    "    for i in range(1, temp + 1):  \n",
    "        if (( a % i == 0) and (b % i == 0 )):  \n",
    "            gcd = i  \n",
    "    return gcd\n",
    "\n",
    "int1 = int(input(\"Masukan angka pertama: \"))\n",
    "int2 = int(input(\"Masukan angka kedua: \"))   \n",
    "Hasil_FPB = FPB(int1, int2)\n",
    "\n",
    "\n",
    "print(\"Masukan angka pertama: \",int1)\n",
    "print(\"Masukan angka pertama: \",int2)\n",
    "print(\"FPB dari 2 angka tersebut: \",Hasil_FPB)\n",
    "\n",
    "# Penentu Bilangan Prima\n",
    "num = Hasil_FPB\n",
    "\n",
    "if num == 1:\n",
    "    print(num, \"Bukan Bilangan Prima\")\n",
    "elif num > 1:\n",
    "   # Pembuktian bahwa angka ini bukan prima\n",
    "   for i in range(2,num):\n",
    "       if (num % i) == 0:\n",
    "           print(num,\"Bukan Bilangan Prima\")\n",
    "           print(\"Karena\",i,\"Kali\",num//i,\"adalah\",num)\n",
    "           break\n",
    "   else:\n",
    "       print(num,\"Merupakan Bilangan Prima\")\n",
    "       \n",
    "# if input number is less than or equal to 1, it is not prime\n",
    "else:\n",
    "   print(num,\"Bukan Bilangan Prima\")"
   ]
  }
 ],
 "metadata": {
  "kernelspec": {
   "display_name": "Python 3 (ipykernel)",
   "language": "python",
   "name": "python3"
  },
  "language_info": {
   "codemirror_mode": {
    "name": "ipython",
    "version": 3
   },
   "file_extension": ".py",
   "mimetype": "text/x-python",
   "name": "python",
   "nbconvert_exporter": "python",
   "pygments_lexer": "ipython3",
   "version": "3.10.4"
  },
  "orig_nbformat": 4
 },
 "nbformat": 4,
 "nbformat_minor": 2
}
